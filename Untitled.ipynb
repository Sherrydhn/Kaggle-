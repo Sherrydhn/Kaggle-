{
 "cells": [
  {
   "cell_type": "code",
   "execution_count": 5,
   "metadata": {},
   "outputs": [
    {
     "name": "stdout",
     "output_type": "stream",
     "text": [
      "0.993429956269\n"
     ]
    }
   ],
   "source": [
    "import numpy as np\n",
    "import pandas as pd\n",
    "from sklearn.metrics import accuracy_score, roc_auc_score,confusion_matrix,f1_score, recall_score,precision_score\n",
    "from sklearn.model_selection import train_test_split\n",
    "import warnings\n",
    "warnings.filterwarnings('ignore')\n",
    "import lightgbm as lgb\n",
    "import pickle\n",
    "\n",
    "data = pd.read_csv('train_sample.csv',header = 0)\n",
    "# convert categorical data from intergers to categories\n",
    "Feature = ['ip', 'app', 'device', 'os', 'channel']\n",
    "for feature in Feature:\n",
    "    data[feature] = data[feature].astype('category')\n",
    "    \n",
    "# set click time to time series\n",
    "data['click_time'] = pd.to_datetime(data['click_time'])\n",
    "data['click_hour'] = data['click_time'].dt.hour\n",
    "\n",
    "#check for minute patterns\n",
    "data['click_min'] = data['click_time'].dt.minute\n",
    "\n",
    "# Adding a confidence rates for is_attributed\n",
    "ATTRIBUTION_CATEGORIES = [\n",
    "    ['ip'], ['app'], ['device'], ['os'], ['channel'],\n",
    "    ['app', 'channel'],\n",
    "    ['app', 'os'],\n",
    "    ['app', 'device'],\n",
    "    ['channel', 'os'],\n",
    "    ['channel', 'device'],\n",
    "    ['os', 'device']\n",
    "]\n",
    "\n",
    "freqs = {}\n",
    "for cols in ATTRIBUTION_CATEGORIES:\n",
    "    new_feature = '_'.join(cols)+'_confRate'\n",
    "    group_object = data.groupby(cols)\n",
    "    group_sizes = group_object.size()\n",
    "    log_group = np.log(100000)\n",
    "    \n",
    "    def rate_calculation(x):\n",
    "        rate = x.sum()/float(x.count())\n",
    "        conf = np.min([1, np.log(x.count())/log_group])\n",
    "        return rate * conf\n",
    "    \n",
    "    data = data.merge(\n",
    "        group_object['is_attributed'].apply(rate_calculation).reset_index().rename(\n",
    "            index = str,\n",
    "            columns = {'is_attributed': new_feature}\n",
    "        )[cols + [new_feature]],\n",
    "        on = cols,how = 'left')\n",
    "\n",
    "\n",
    "data.drop(['attributed_time','click_time'],axis = 1, inplace = True)\n",
    "Target = ['is_attributed']\n",
    "Feature = data.columns.tolist()\n",
    "Feature.remove('is_attributed')#['ip', 'app', 'device', 'os', 'channel']\n",
    "\n",
    "train,test = train_test_split(data, train_size = 0.7, test_size = 0.3, random_state = 123)\n",
    "x, y = train[Feature].values, train[Target].values.ravel()\n",
    "train_data = lgb.Dataset(x,label = y)\n",
    "test_data = lgb.Dataset(test[Feature].values, label = test[Target].values)\n",
    "\n",
    "param = {\n",
    "    'application':'binary',\n",
    "    'objective':'binary',\n",
    "    'metirc':'auc',\n",
    "#     'is_unbalance':'true',\n",
    "    'scale_pos_weight': 50,\n",
    "    'boosting':'gbdt',\n",
    "    'num_leaves':31,\n",
    "    'feature_fraction':0.5,\n",
    "    'bagging_freq':20,\n",
    "    'learning_rate':0.05,\n",
    "    'verbose':0\n",
    "}\n",
    "clf_lgb = lgb.train(param, train_data)\n",
    "pred_prob = clf_lgb.predict(test[Feature].values)\n",
    "pred_01 = np.where(pred_prob>0.5,1,0)\n",
    "print(roc_auc_score(test[Target].values, pred_prob))\n",
    "\n",
    "# Save model\n",
    "filename = 'Lightgbm_TalkingData.sav'\n",
    "pickle.dump(clf_lgb, open(filename, 'wb'))"
   ]
  },
  {
   "cell_type": "code",
   "execution_count": null,
   "metadata": {
    "collapsed": true
   },
   "outputs": [],
   "source": []
  }
 ],
 "metadata": {
  "kernelspec": {
   "display_name": "Python 3",
   "language": "python",
   "name": "python3"
  },
  "language_info": {
   "codemirror_mode": {
    "name": "ipython",
    "version": 3
   },
   "file_extension": ".py",
   "mimetype": "text/x-python",
   "name": "python",
   "nbconvert_exporter": "python",
   "pygments_lexer": "ipython3",
   "version": "3.6.1"
  }
 },
 "nbformat": 4,
 "nbformat_minor": 2
}
